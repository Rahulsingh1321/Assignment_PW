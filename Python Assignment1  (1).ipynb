{
 "cells": [
  {
   "cell_type": "markdown",
   "id": "b2ddc5ea-6494-4add-a329-137e84467e49",
   "metadata": {},
   "source": [
    "# TOPIC: Python Basics Variable\n",
    "\n",
    "## 1. Declare two variables, `x` and `y`, and assign them integer values. Swap the\n",
    "values of these variables without using any temporary variable."
   ]
  },
  {
   "cell_type": "code",
   "execution_count": 1,
   "id": "d389cc67-c574-4662-b4ba-27d0c46e34d8",
   "metadata": {},
   "outputs": [
    {
     "name": "stdout",
     "output_type": "stream",
     "text": [
      "Before Swapping X is 10 Y is 20\n",
      "After Swapping X is 20 Y is  10\n"
     ]
    }
   ],
   "source": [
    "# Step-1 Take a variable x,y\n",
    "x=10\n",
    "y=20\n",
    "#Step-2 Print the value of variable before swapping\n",
    "print (\"Before Swapping\", \"X is\",x,\"Y is\",y)\n",
    "#Step 3- Swapping the value of x&y.\n",
    "x,y=y,x\n",
    "#Step 4- Print the value of variable after swapping\n",
    "print(\"After Swapping X is\",x,\"Y is \",y)"
   ]
  },
  {
   "cell_type": "markdown",
   "id": "43899762-f4e6-48e9-9f38-64172a49ae53",
   "metadata": {},
   "source": [
    "## 2. Create a program that calculates the area of a rectangle. Take the length and width as inputs from the user and store them in variables. Calculate and display the area."
   ]
  },
  {
   "cell_type": "code",
   "execution_count": 3,
   "id": "23766d28-0167-4e5b-a401-c786490cb4d4",
   "metadata": {},
   "outputs": [
    {
     "name": "stdin",
     "output_type": "stream",
     "text": [
      "Length of Rectangle in centimeter- 19\n",
      "Width of Rectangle in centimeter- 10\n"
     ]
    },
    {
     "name": "stdout",
     "output_type": "stream",
     "text": [
      "The area of rectangle 190.0 Centimeter\n"
     ]
    }
   ],
   "source": [
    "#Step_1- Take the input of length & width from the user. \n",
    "length = float(input(\"Length of Rectangle in centimeter-\"))\n",
    "width = float(input(\"Width of Rectangle in centimeter-\"))\n",
    "#Step_2- put the formula of area of rectangle (l*w)\n",
    "area = length * width\n",
    "#Step_3- Show the output of Area of Rectangle\n",
    "print(\"The area of rectangle\",area,\"Centimeter\")"
   ]
  },
  {
   "cell_type": "markdown",
   "id": "de639248-2d9e-4553-9da7-5daf43d399f5",
   "metadata": {},
   "source": [
    "## 3. Write a Python program that converts temperatures from Celsius to Fahrenheit. Take the temperature in Celsius as input, store it in a variable,convert it to Fahrenheit, and display the result."
   ]
  },
  {
   "cell_type": "code",
   "execution_count": 33,
   "id": "f4d82b0e-19dc-4fb2-8f97-5e2dfb7ce350",
   "metadata": {},
   "outputs": [
    {
     "name": "stdin",
     "output_type": "stream",
     "text": [
      "Enter the temprature in celsius: 50\n"
     ]
    },
    {
     "data": {
      "text/plain": [
       "122.0"
      ]
     },
     "execution_count": 33,
     "metadata": {},
     "output_type": "execute_result"
    }
   ],
   "source": [
    "#Step-1 : Take a input from user\n",
    "temprature_celsius = float(input(\"Enter the temprature in celsius:\"))\n",
    "#Step-2 : Convert the temprature celsius into fahrenheit\n",
    "temprature_Fahrenheit = (1.8*(celsius))+32\n",
    "#Step-3 : Show the output of Fahrenheit\n",
    "temprature_Fahrenheit"
   ]
  },
  {
   "cell_type": "markdown",
   "id": "66040966-e80d-4426-ba3a-d4868f7cb9d4",
   "metadata": {},
   "source": [
    "# TOPIC: String Based Questions"
   ]
  },
  {
   "cell_type": "markdown",
   "id": "7f02d1d8-c411-46f5-a615-e94b39cd67ab",
   "metadata": {},
   "source": [
    "## 1. Write a Python program that takes a string as input and prints the length of the string."
   ]
  },
  {
   "cell_type": "code",
   "execution_count": 34,
   "id": "628569b2-a7fa-457c-8268-269f5e5d69ea",
   "metadata": {},
   "outputs": [
    {
     "name": "stdin",
     "output_type": "stream",
     "text": [
      "Enter python programme as string- Hi My name is rahul singh\n"
     ]
    },
    {
     "data": {
      "text/plain": [
       "25"
      ]
     },
     "execution_count": 34,
     "metadata": {},
     "output_type": "execute_result"
    }
   ],
   "source": [
    "#Step-1: Take the input from user as string\n",
    "P = input(\"Enter python programme as string-\")\n",
    "#step-2: Print the length of string \n",
    "len(P)"
   ]
  },
  {
   "cell_type": "markdown",
   "id": "785a027d-fb64-42e3-81da-632aaf21f21c",
   "metadata": {},
   "source": [
    "## 2. Create a program that takes a sentence from the user and counts the number of vowels (a, e, i, o, u) in the string."
   ]
  },
  {
   "cell_type": "code",
   "execution_count": null,
   "id": "860e4849-9dc3-44e6-9980-00d18011eee0",
   "metadata": {},
   "outputs": [],
   "source": []
  },
  {
   "cell_type": "code",
   "execution_count": 1,
   "id": "abc7d487-9e4b-4a57-9b6e-6f095339e6bd",
   "metadata": {},
   "outputs": [
    {
     "name": "stdin",
     "output_type": "stream",
     "text": [
      " Change, as they say, is the only constant. And staying relevant is all about questioning the status quo at every step. At Birlasoft, we combine the power of domain, enterprise, and digital technologies to reimagine business potential. Over the years, we have made waves in the enterprise digital services landscape, making a habit of surpassing expectations and breaking convention\n"
     ]
    },
    {
     "name": "stdout",
     "output_type": "stream",
     "text": [
      "Number of vowels: 125\n"
     ]
    }
   ],
   "source": [
    "# Function to count vowels in a string\n",
    "\n",
    "def count_vowels(string_s):\n",
    "    \n",
    " # Initialize a counter for vowels\n",
    "\n",
    "    vowel_count= 0\n",
    "    string_s= string_s.lower()\n",
    "   \n",
    "    # Define a set of vowels\n",
    "\n",
    "    vowels= set(\"aeiou\")\n",
    "# Loop through each character in the sentence\n",
    "    for char in string_s:\n",
    " # Check if the character is a vowel\n",
    "        if char in vowels:   \n",
    "            vowel_count += 1\n",
    "    return vowel_count\n",
    "input_string = input()\n",
    "# Call the function to count vowels\n",
    "result = count_vowels(input_string)\n",
    "print(\"Number of vowels:\", result)"
   ]
  },
  {
   "cell_type": "markdown",
   "id": "d64a390c-95bd-4e10-886a-ccb4ca925999",
   "metadata": {},
   "source": [
    "## 3. Given a string, reverse the order of characters using string slicing and print the reversed string."
   ]
  },
  {
   "cell_type": "code",
   "execution_count": 3,
   "id": "2ca6fd09-d566-4e7e-ba6a-72e31f31f105",
   "metadata": {},
   "outputs": [
    {
     "name": "stdin",
     "output_type": "stream",
     "text": [
      " I like you my friend.\n"
     ]
    },
    {
     "name": "stdout",
     "output_type": "stream",
     "text": [
      ".dneirf ym uoy ekil I\n"
     ]
    }
   ],
   "source": [
    "#Step-1: Take input from the user\n",
    "String = input()\n",
    "#Step-2: Reverse the user input\n",
    "Reverse_String= String[::-1]\n",
    "#Print the Reverse string as output programme\n",
    "print(Reverse_String)"
   ]
  },
  {
   "cell_type": "markdown",
   "id": "008a479d-97b1-450f-8839-f05e8acccda6",
   "metadata": {},
   "source": [
    "## 4. Write a program that takes a string as input and checks if it is a palindrome (reads the same forwards and backwards)."
   ]
  },
  {
   "cell_type": "code",
   "execution_count": 4,
   "id": "cf6ec931-8e8c-48fe-bb41-e25df2ba668a",
   "metadata": {},
   "outputs": [
    {
     "name": "stdin",
     "output_type": "stream",
     "text": [
      "Write here input string:  WoW\n"
     ]
    },
    {
     "name": "stdout",
     "output_type": "stream",
     "text": [
      "The input string is Palindrome\n"
     ]
    }
   ],
   "source": [
    "#Step-1 Write input programme\n",
    "input_string= input(\"Write here input string: \")\n",
    "#Step-2 remove the blank space and convert the string into lower case \n",
    "cleaned_string= input_string.replace(\" \",\"\").lower()\n",
    "#Step-3 Reverse the Input string\n",
    "reversed_string= cleaned_string[::-1]\n",
    "#Step4 - Check both original and reverse programe is same or equal or not and use if, else statement.\n",
    "if cleaned_string==reversed_string:\n",
    "    print(\"The input string is Palindrome\")\n",
    "else:\n",
    "    print(\"The input string is not a Palidrome\")"
   ]
  },
  {
   "cell_type": "markdown",
   "id": "223f33c9-7d5f-42e8-a19f-e920a437fa34",
   "metadata": {},
   "source": [
    "## 5.Create a program that takes a string as input and removes all the spaces from it. Print the modified string without spaces."
   ]
  },
  {
   "cell_type": "code",
   "execution_count": 6,
   "id": "37058782-605f-4e66-bbf1-ae688f4a9504",
   "metadata": {},
   "outputs": [
    {
     "name": "stdin",
     "output_type": "stream",
     "text": [
      "Write the string with space- My Name is Rahul Singh\n"
     ]
    },
    {
     "name": "stdout",
     "output_type": "stream",
     "text": [
      "MyNameisRahulSingh\n"
     ]
    }
   ],
   "source": [
    "# Step-1 : Take a input from the user\n",
    "Input_String = input(\"Write the string with space-\")\n",
    "# Step-2 : Remove the gap form the string\n",
    "Modified_String= Input_String.replace(\" \", \"\")\n",
    "# Step-3: Print the modified string.\n",
    "print(Modified_String)"
   ]
  },
  {
   "cell_type": "code",
   "execution_count": null,
   "id": "3a89af45-db15-4517-8e46-86b58531434f",
   "metadata": {},
   "outputs": [],
   "source": []
  }
 ],
 "metadata": {
  "kernelspec": {
   "display_name": "Python 3 (ipykernel)",
   "language": "python",
   "name": "python3"
  },
  "language_info": {
   "codemirror_mode": {
    "name": "ipython",
    "version": 3
   },
   "file_extension": ".py",
   "mimetype": "text/x-python",
   "name": "python",
   "nbconvert_exporter": "python",
   "pygments_lexer": "ipython3",
   "version": "3.10.8"
  }
 },
 "nbformat": 4,
 "nbformat_minor": 5
}
